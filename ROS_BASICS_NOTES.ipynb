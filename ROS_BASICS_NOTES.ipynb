{
  "nbformat": 4,
  "nbformat_minor": 0,
  "metadata": {
    "colab": {
      "provenance": [],
      "collapsed_sections": []
    },
    "kernelspec": {
      "name": "python3",
      "display_name": "Python 3"
    },
    "language_info": {
      "name": "python"
    }
  },
  "cells": [
    {
      "cell_type": "markdown",
      "source": [
        "Creazione del pacchetto:\n",
        "\n"
      ],
      "metadata": {
        "id": "8N7b4aNwmLdr"
      }
    },
    {
      "cell_type": "markdown",
      "source": [],
      "metadata": {
        "id": "zOJ4WN87mKZL"
      }
    },
    {
      "cell_type": "code",
      "execution_count": null,
      "metadata": {
        "id": "xiEMJqrlmFuC"
      },
      "outputs": [],
      "source": [
        "mkdir python_catkin #creo cartella per pacchetto\n",
        "mkdir src \n",
        "catkin_make #creo il pacchetto\n",
        "cd src      \n",
        "catkin_create_pkg tutorial rospy std_msgs #creo un pacchetto python con dipendenze std_msgs"
      ]
    },
    {
      "cell_type": "markdown",
      "source": [
        "In tutorials creo una cartella chiamata \"scripts\" al pari di src"
      ],
      "metadata": {
        "id": "d5sJChQUou4q"
      }
    },
    {
      "cell_type": "markdown",
      "source": [
        "In \"scripts\" creo: i file publisher_node.py, subscriber_node.py, service_client_node.py, service_server_node.py\n"
      ],
      "metadata": {
        "id": "bvNilRTwo8z6"
      }
    },
    {
      "cell_type": "code",
      "source": [
        "#publisher node\n",
        "\n",
        "#!/usr/bin/envcd ..\n",
        "import rospy\n",
        "from std_msgs.msg import String\n",
        "\n",
        "def talk_to_me():\n",
        "    pub = rospy.Publisher('talking_topic', String, queue_size = 10) #declaring a pub that publishes a String on the topic called \"talking_topic\" \n",
        "    rospy.init_node('publisher_node', anonymous=True) #The node is called \"publisher_node\". Anonimous fa si che se ho più pub gli da un nome univoco con numero sequenziale\n",
        "    rate = rospy.Rate(1)\n",
        "    rospy.loginfo(\"Publisher node started to publish\") \n",
        "    while not rospy.is_shutdown():\n",
        "        msg = \"Hey i'm your first pubblisher man!: %s\" % rospy.get_time() \n",
        "        pub.publish(msg)    #it's a method of a pubblisher!!!\n",
        "        rospy.loginfo(\"Io ho pubblicato man!\")\n",
        "        rate.sleep()\n",
        "\n",
        "if __name__ == '__main__':\n",
        "    try:\n",
        "        talk_to_me()\n",
        "    except rospy.ROSInterruptException:\n",
        "        pass\n",
        "\n"
      ],
      "metadata": {
        "id": "O36v31Goo6Kq"
      },
      "execution_count": null,
      "outputs": []
    },
    {
      "cell_type": "code",
      "source": [
        "#subscriber node\n",
        "\n",
        "#!/usr/bin/env\n",
        "import rospy\n",
        "from std_msgs.msg import String\n",
        "\n",
        "def callback(incoming_data):#incoming_data è nome arbitrario...\n",
        "    rospy.loginfo(\"RECEIVED DATA: %s\", incoming_data.data) #dal manuale ho string msg ha campo \"data\"\n",
        "    \n",
        "def listener():\n",
        "    rospy.init_node('subscriber_node', anonymous=True)\n",
        "    rospy.Subscriber('talking_topic', String, callback) #a differenza del pub qui non devo fare il sub = rospy.Subscriber\n",
        "    rospy.spin()\n",
        "\n",
        "if __name__ == '__main__':\n",
        "    try:\n",
        "        listener()\n",
        "    except rospy.ROSInterruptException:\n",
        "        pass\n",
        "\n",
        "\n",
        "\n"
      ],
      "metadata": {
        "id": "HikIegnzpp_i"
      },
      "execution_count": null,
      "outputs": []
    },
    {
      "cell_type": "markdown",
      "source": [
        "When using services, i need to define both input and the response message. This is done through an \".srv\" file... "
      ],
      "metadata": {
        "id": "vY7OX8Otq2uZ"
      }
    },
    {
      "cell_type": "code",
      "source": [
        "#with this i'm defining outputs and inputs of the service\n",
        "int32 a #input\n",
        "int32 b #input\n",
        "---\n",
        "int32 result #output"
      ],
      "metadata": {
        "id": "SbmCLOsmqwlx"
      },
      "execution_count": null,
      "outputs": []
    },
    {
      "cell_type": "code",
      "source": [
        "#service_server_node\n",
        "\n",
        " #!/usr/bin/env python\n",
        "import rospy\n",
        "from tutorials.srv import multiplier, multiplierResponse #importo i tipi di messaggio\n",
        "\n",
        "def callback(request):\n",
        "    return multiplierResponse(request.a*request.b)\n",
        "\n",
        "def multiply():\n",
        "    rospy.init_node(\"multiplier_service\") #inizializzo il nodo\n",
        "    service = rospy.Service(\"multiplier\", multiplier, callback)\n",
        "    rospy.spin()\n",
        "\n",
        "if __name__ == '__main__':\n",
        "    multiply()"
      ],
      "metadata": {
        "id": "L3XRSRNIqg2J"
      },
      "execution_count": null,
      "outputs": []
    },
    {
      "cell_type": "code",
      "source": [
        " #server_client_node \n",
        " \n",
        " #!/usr/bin/env python\n",
        "import rospy\n",
        "from tutorials.srv import multiplier, multiplierResponse #importo i tipi di messaggio\n",
        "\n",
        "def multiplier_client(x,y):\n",
        "    rospy.init_node(\"client_node\")\n",
        "    rospy.wait_for_service(\"multiplier\")\n",
        "    rate = rospy.Rate(1)\n",
        "    while not rospy.is_shutdown():\n",
        "        try:\n",
        "            multiply_two_ints = rospy.ServiceProxy(\"multiplier\",multiplier) #name of the service & type of message (the name of the srv file in witch we defined the message.in this case message.srv => message)\n",
        "            response = multiply_two_ints(x,y)#multiply_two_ints è instanza di servizio. Qui lo chiamo passandogli x e y\n",
        "            rospy.loginfo(response.result)\n",
        "            rate.sleep()\n",
        "        except rospy.ServiceException as e:\n",
        "            print('service call fail!')\n",
        "\n",
        "\n",
        "if __name__ == '__main__':\n",
        "    multiplier_client(7, 2)"
      ],
      "metadata": {
        "id": "slQpxWQRr_L5"
      },
      "execution_count": null,
      "outputs": []
    },
    {
      "cell_type": "markdown",
      "source": [
        "L'aggiunta di codice .py (anche c++) richiede l'aggiornamento del CMakeLists.txt del pacchetto:"
      ],
      "metadata": {
        "id": "nUS8Nn0fsPD5"
      }
    },
    {
      "cell_type": "code",
      "source": [
        "#qui aggiungo i nomi degli scripts e vale sia per pub/sub sia i service\n",
        "catkin_install_python(PROGRAMS scripts/publisher_node.py scripts/subscriber_node.py scripts/service_server_node.py scripts/service_client_node.py\n",
        "  DESTINATION ${CATKIN_PACKAGE_BIN_DESTINATION}\n",
        ")"
      ],
      "metadata": {
        "id": "6CTdCQUxsfxY"
      },
      "execution_count": null,
      "outputs": []
    },
    {
      "cell_type": "code",
      "source": [
        "#Per i servizi devo anche scommentare i seguenti:\n",
        "#-------------------------------------------------------\n",
        "find_package(catkin REQUIRED COMPONENTS\n",
        "  rospy\n",
        "  std_msgs\n",
        "  message_generation #aggiungo questa \"message_generation\" \n",
        ")\n",
        "#-------------------------------------------------------\n",
        "#scrivo al posto di Service1.srv il nome dei miei servizi \n",
        " add_service_files(\n",
        "   FILES\n",
        "   multiplier.srv\n",
        " )\n",
        "#-------------------------------------------------------\n",
        "#decommento i generate_message\n",
        " generate_messages(\n",
        "   DEPENDENCIES\n",
        "   std_msgs  # Or other packages containing msgs\n",
        " )\n",
        "#-------------------------------------------------------\n",
        " "
      ],
      "metadata": {
        "id": "GxnIOgkdsnvA"
      },
      "execution_count": null,
      "outputs": []
    },
    {
      "cell_type": "markdown",
      "source": [
        "Solo perchè ho introdotto i servizi, modifico il package.xml scommentando le seguenti righe:"
      ],
      "metadata": {
        "id": "L0wEtBZPuIIp"
      }
    },
    {
      "cell_type": "code",
      "source": [
        "#come indicato nella pagina di ROS tutorial sui servizi\n",
        "\n",
        "<build_depend>message_generation</build_depend> \n",
        "<exec_depend>message_runtime</exec_depend> \n"
      ],
      "metadata": {
        "id": "wSI9XygKuH45"
      },
      "execution_count": null,
      "outputs": []
    },
    {
      "cell_type": "markdown",
      "source": [
        "E' importante ad ogni terminale fare un source devel/setup.bash a meno che non si inserisca nel bashrc l'apposita riga (che non ricordo) per far si che ad ogni terminale faccia il source in automatico..."
      ],
      "metadata": {
        "id": "9CIJ99fwwbMA"
      }
    },
    {
      "cell_type": "markdown",
      "source": [
        "E' importante ad ogni modifica fatta ai file fare un catkin_make lanciata dal workspace (\"python_catkin\" nell'esempio)"
      ],
      "metadata": {
        "id": "sHU7lV46w3IP"
      }
    }
  ]
}